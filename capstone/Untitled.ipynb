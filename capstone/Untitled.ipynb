{
 "cells": [
  {
   "cell_type": "code",
   "execution_count": 1,
   "metadata": {},
   "outputs": [
    {
     "ename": "NameError",
     "evalue": "name 'install' is not defined",
     "output_type": "error",
     "traceback": [
      "\u001b[1;31m---------------------------------------------------------------------------\u001b[0m",
      "\u001b[1;31mNameError\u001b[0m                                 Traceback (most recent call last)",
      "\u001b[1;32m<ipython-input-1-98998ffab6c0>\u001b[0m in \u001b[0;36m<module>\u001b[1;34m\u001b[0m\n\u001b[1;32m----> 1\u001b[1;33m \u001b[0minstall\u001b[0m\u001b[1;33m.\u001b[0m\u001b[0mpackages\u001b[0m\u001b[1;33m(\u001b[0m\u001b[1;34m\"bea.R\"\u001b[0m\u001b[1;33m)\u001b[0m\u001b[1;33m\u001b[0m\u001b[1;33m\u001b[0m\u001b[0m\n\u001b[0m",
      "\u001b[1;31mNameError\u001b[0m: name 'install' is not defined"
     ]
    }
   ],
   "source": [
    "install.packages(\"bea.R\")"
   ]
  },
  {
   "cell_type": "code",
   "execution_count": 17,
   "metadata": {},
   "outputs": [],
   "source": [
    "import pybea"
   ]
  },
  {
   "cell_type": "code",
   "execution_count": 3,
   "metadata": {},
   "outputs": [],
   "source": [
    "key='CBA65937-FB02-45C8-887C-C84FE036DE17'"
   ]
  },
  {
   "cell_type": "code",
   "execution_count": 18,
   "metadata": {},
   "outputs": [],
   "source": [
    "# available_datasets = pybea.get_data_set_list(key,ResultFormat='JSON')\n",
    "# available_datasets"
   ]
  },
  {
   "cell_type": "code",
   "execution_count": 13,
   "metadata": {},
   "outputs": [],
   "source": [
    "# regional_income_params = pybea.get_parameter_list(key,\n",
    "#                                                   DataSetName='RegionalIncome',\n",
    "#                                                   ResultFormat=\"XML\")\n",
    "# regional_income_params"
   ]
  },
  {
   "cell_type": "code",
   "execution_count": 12,
   "metadata": {},
   "outputs": [],
   "source": [
    "# data = pybea.get_data(key,\n",
    "#                       DataSetName='NIPA',\n",
    "#                       TableName='T10101',\n",
    "#                       Frequency=['A', 'Q'],\n",
    "#                       Year='ALL',\n",
    "#                       ResultFormat=\"XML\"\n",
    "#                       )"
   ]
  },
  {
   "cell_type": "code",
   "execution_count": 22,
   "metadata": {},
   "outputs": [],
   "source": [
    "import pandas as pd\n",
    "import requests \n",
    "import json\n",
    "import plotly.graph_objects as go"
   ]
  },
  {
   "cell_type": "code",
   "execution_count": 24,
   "metadata": {},
   "outputs": [],
   "source": [
    "def scrapeindicator(url):\n",
    "    r = requests.get(url)\n",
    "    r_json = r.json()\n",
    "    periods = r_json['series']['docs'][0]['period']\n",
    "    values = r_json['series']['docs'][0]['value']\n",
    "    dataset = r_json['series']['docs'][0]['dataset_name']\n",
    "    indicators = pd.DataFrame(values, index = period)\n",
    "    indicators.columns = [dataset]\n",
    "    return indicators"
   ]
  },
  {
   "cell_type": "code",
   "execution_count": null,
   "metadata": {},
   "outputs": [],
   "source": [
    "https://db.nomics.world/BEA/GDPbyIndustry-208/II-Q"
   ]
  }
 ],
 "metadata": {
  "kernelspec": {
   "display_name": "Python 3",
   "language": "python",
   "name": "python3"
  },
  "language_info": {
   "codemirror_mode": {
    "name": "ipython",
    "version": 3
   },
   "file_extension": ".py",
   "mimetype": "text/x-python",
   "name": "python",
   "nbconvert_exporter": "python",
   "pygments_lexer": "ipython3",
   "version": "3.7.7"
  }
 },
 "nbformat": 4,
 "nbformat_minor": 4
}
